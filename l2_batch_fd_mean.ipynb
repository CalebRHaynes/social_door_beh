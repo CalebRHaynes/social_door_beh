{
 "cells": [
  {
   "cell_type": "code",
   "execution_count": 1,
   "metadata": {},
   "outputs": [],
   "source": [
    "import json\n",
    "import glob\n",
    "import numpy as np\n",
    "from statistics import mean\n",
    "from os import path\n",
    "root_folder = \"/data/projects/STUDIES/social_doors_all/College/\"\n",
    "mriqc_jsons = glob.glob(\"/data/projects/STUDIES/social_doors_all/College/fMRI/mriqc/derivatives/*[a|b]_run-0[1|2]_bold.json\")\n",
    "feat_dir = glob.glob(\"results/lowerLv_Results/*\")"
   ]
  },
  {
   "cell_type": "code",
   "execution_count": 2,
   "metadata": {},
   "outputs": [],
   "source": [
    "def extract_fd_vals(json_file):\n",
    "    f = open(json_file)\n",
    "    data = json.load(f)\n",
    "    fd_data = data['fd_mean'] \n",
    "    f.close() \n",
    "    return fd_data\n",
    "    "
   ]
  },
  {
   "cell_type": "code",
   "execution_count": 3,
   "metadata": {},
   "outputs": [
    {
     "name": "stdout",
     "output_type": "stream",
     "text": [
      "\u001b[0m\u001b[01;32m./fMRI/scripts/models/L1_task-srDoorsa_model-01.sh\u001b[0m*\r\n",
      "\u001b[01;32m./fMRI/scripts/models/L1_task-srDoorsb_model-01.sh\u001b[0m*\r\n",
      "\u001b[01;32m./fMRI/scripts/models/L1_task-srSociala_model-01.sh\u001b[0m*\r\n",
      "\u001b[01;32m./fMRI/scripts/models/L1_task-srSocialb_model-01.sh\u001b[0m*\r\n",
      "\u001b[01;32m./fMRI/scripts/models/L2_combine_socialDoors.sh\u001b[0m*\r\n",
      "\r\n",
      "./fMRI/scripts/models/setback:\r\n",
      "\u001b[01;32mL1_task-srDoorsa_model-01.sh\u001b[0m*  \u001b[01;32mL1_task-srSociala_model-01.sh\u001b[0m*\r\n",
      "\u001b[01;32mL1_task-srDoorsb_model-01.sh\u001b[0m*  \u001b[01;32mL1_task-srSocialb_model-01.sh\u001b[0m*\r\n"
     ]
    }
   ],
   "source": [
    "for l1 in feat_dir[0:1]:\n",
    "    #iterate over subjects\n",
    "    sub = l1[-4:]\n",
    "    mriqc_dirs = [file for file in mriqc_jsons if sub in file]\n",
    "    \n",
    "    #make this into dictionary where {json name: fd_mean}\n",
    "    fd_mean_dict = {i[80:111]: extract_fd_vals(i) for i in mriqc_dirs}\n",
    "    \n",
    "    #single value for subject mean\n",
    "    dic_mean = mean(fd_mean_dict[k] for k in fd_mean_dict)\n",
    "    \n",
    "    #make new dict with demeaned values\n",
    "    demean_dict = {key: fd_mean_dict[key] - dic_mean for key in fd_mean_dict}\n",
    "    \n",
    "    #assign inputs & fdmean\n",
    "    if path.exists(f'fMRI/EVfiles/{sub}/doors/run-01_a_LoseGames_Ant.txt'):\n",
    "        in1 =  root_folder + f'results/lowerLv_Results/sub-{sub}/L1_task-srDoorsa_model-01_type-act_run-01_sm-6_variant-dctAROMAnonaggr.feat'\n",
    "        in2 =  root_folder + f'results/lowerLv_Results/sub-{sub}/L1_task-srDoorsb_model-01_type-act_run-01_sm-6_variant-dctAROMAnonaggr.feat'\n",
    "        in3 =  root_folder + f'results/lowerLv_Results/sub-{sub}/L1_task-srDoorsa_model-01_type-act_run-02_sm-6_variant-dctAROMAnonaggr.feat'\n",
    "        in4 =  root_folder + f'results/lowerLv_Results/sub-{sub}/L1_task-srDoorsb_model-01_type-act_run-02_sm-6_variant-dctAROMAnonaggr.feat'\n",
    "        in5 =  root_folder + f'results/lowerLv_Results/sub-{sub}/L1_task-srSociala_model-01_type-act_run-01_sm-6_variant-dctAROMAnonaggr.feat'\n",
    "        in6 =  root_folder + f'results/lowerLv_Results/sub-{sub}/L1_task-srSocialb_model-01_type-act_run-01_sm-6_variant-dctAROMAnonaggr.feat'\n",
    "        in7 =  root_folder + f'results/lowerLv_Results/sub-{sub}/L1_task-srSociala_model-01_type-act_run-02_sm-6_variant-dctAROMAnonaggr.feat'\n",
    "        in8 =  root_folder + f'results/lowerLv_Results/sub-{sub}/L1_task-srSocialb_model-01_type-act_run-02_sm-6_variant-dctAROMAnonaggr.feat'\n",
    "    \n",
    "    else:\n",
    "        in1 =  root_folder + f'results/lowerLv_Results/sub-{sub}/L1_task-srDoorsb_model-01_type-act_run-01_sm-6_variant-dctAROMAnonaggr.feat'\n",
    "        in2 =  root_folder + f'results/lowerLv_Results/sub-{sub}/L1_task-srDoorsa_model-01_type-act_run-01_sm-6_variant-dctAROMAnonaggr.feat'\n",
    "        in3 =  root_folder + f'results/lowerLv_Results/sub-{sub}/L1_task-srDoorsb_model-02_type-act_run-01_sm-6_variant-dctAROMAnonaggr.feat'\n",
    "        in4 =  root_folder + f'results/lowerLv_Results/sub-{sub}/L1_task-srDoorsa_model-02_type-act_run-01_sm-6_variant-dctAROMAnonaggr.feat'\n",
    "        in5 =  root_folder + f'results/lowerLv_Results/sub-{sub}/L1_task-srSocialb_model-01_type-act_run-01_sm-6_variant-dctAROMAnonaggr.feat'\n",
    "        in6 =  root_folder + f'results/lowerLv_Results/sub-{sub}/L1_task-srSociala_model-01_type-act_run-01_sm-6_variant-dctAROMAnonaggr.feat'\n",
    "        in7 =  root_folder + f'results/lowerLv_Results/sub-{sub}/L1_task-srSocialb_model-02_type-act_run-01_sm-6_variant-dctAROMAnonaggr.feat'\n",
    "        in8 =  root_folder + f'results/lowerLv_Results/sub-{sub}/L1_task-srSociala_model-02_type-act_run-01_sm-6_variant-dctAROMAnonaggr.feat'\n",
    "\n",
    "    demean1 = [value for key, value in demean_dict.items() if key.startswith(in1[-72:-58] + 'run' + in1[-53:-50])][0]\n",
    "    demean2 = [value for key, value in demean_dict.items() if key.startswith(in2[-72:-58] + 'run' + in1[-53:-50])][0]\n",
    "    demean3 = [value for key, value in demean_dict.items() if key.startswith(in3[-72:-58] + 'run' + in1[-53:-50])][0]\n",
    "    demean4 = [value for key, value in demean_dict.items() if key.startswith(in4[-72:-58] + 'run' + in1[-53:-50])][0]\n",
    "    demean5 = [value for key, value in demean_dict.items() if key.startswith(in5[-73:-58] + 'run' + in1[-53:-50])][0]\n",
    "    demean6 = [value for key, value in demean_dict.items() if key.startswith(in6[-73:-58] + 'run' + in1[-53:-50])][0]\n",
    "    demean7 = [value for key, value in demean_dict.items() if key.startswith(in7[-73:-58] + 'run' + in1[-53:-50])][0]\n",
    "    demean8 = [value for key, value in demean_dict.items() if key.startswith(in8[-73:-58] + 'run' + in1[-53:-50])][0]\n",
    "    %ls ./fMRI/scripts/models/*\n",
    "    #$sub $in1 $in2 $in3 $in4 $in5 $in6 $in7 $in8 $demean1 $demean2 $demean3 $demean4 $demean5 $demean6 $demean7 $demean8 "
   ]
  },
  {
   "cell_type": "code",
   "execution_count": null,
   "metadata": {},
   "outputs": [],
   "source": []
  },
  {
   "cell_type": "code",
   "execution_count": null,
   "metadata": {},
   "outputs": [],
   "source": []
  }
 ],
 "metadata": {
  "kernelspec": {
   "display_name": "Python 3",
   "language": "python",
   "name": "python3"
  },
  "language_info": {
   "codemirror_mode": {
    "name": "ipython",
    "version": 3
   },
   "file_extension": ".py",
   "mimetype": "text/x-python",
   "name": "python",
   "nbconvert_exporter": "python",
   "pygments_lexer": "ipython3",
   "version": "3.6.9"
  }
 },
 "nbformat": 4,
 "nbformat_minor": 2
}
